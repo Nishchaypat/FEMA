{
 "cells": [
  {
   "cell_type": "code",
   "execution_count": 9,
   "metadata": {},
   "outputs": [],
   "source": [
    "import pandas as pd\n",
    "import re\n",
    "import spacy\n",
    "from sklearn.model_selection import train_test_split"
   ]
  },
  {
   "cell_type": "markdown",
   "metadata": {},
   "source": [
    "Tokenization:"
   ]
  },
  {
   "cell_type": "code",
   "execution_count": 54,
   "metadata": {},
   "outputs": [],
   "source": [
    "nlp = spacy.load('en_core_web_sm')"
   ]
  },
  {
   "cell_type": "code",
   "execution_count": 86,
   "metadata": {},
   "outputs": [],
   "source": [
    "data = pd.read_csv('processed_data.csv')"
   ]
  },
  {
   "cell_type": "code",
   "execution_count": 87,
   "metadata": {},
   "outputs": [
    {
     "data": {
      "text/plain": [
       "RangeIndex(start=0, stop=1589185, step=1)"
      ]
     },
     "execution_count": 87,
     "metadata": {},
     "output_type": "execute_result"
    }
   ],
   "source": [
    "data.dropna(inplace=True)\n",
    "data.reset_index(drop=True, inplace=True)\n",
    "data.index"
   ]
  },
  {
   "cell_type": "code",
   "execution_count": null,
   "metadata": {},
   "outputs": [
    {
     "data": {
      "text/plain": [
       "10000"
      ]
     },
     "execution_count": 88,
     "metadata": {},
     "output_type": "execute_result"
    }
   ],
   "source": [
    "amount_of_samples = 10000\n",
    "X = data.drop(columns=['target'])\n",
    "y = data['target']\n",
    "X_train, X_test, y_train, y_test = train_test_split(X, y, test_size=len(data.index)-amount_of_samples, stratify=y)\n",
    "sample = pd.concat([X_train, y_train], axis=1)\n",
    "len(sample.index)"
   ]
  },
  {
   "cell_type": "code",
   "execution_count": 91,
   "metadata": {},
   "outputs": [
    {
     "data": {
      "text/html": [
       "<div>\n",
       "<style scoped>\n",
       "    .dataframe tbody tr th:only-of-type {\n",
       "        vertical-align: middle;\n",
       "    }\n",
       "\n",
       "    .dataframe tbody tr th {\n",
       "        vertical-align: top;\n",
       "    }\n",
       "\n",
       "    .dataframe thead th {\n",
       "        text-align: right;\n",
       "    }\n",
       "</style>\n",
       "<table border=\"1\" class=\"dataframe\">\n",
       "  <thead>\n",
       "    <tr style=\"text-align: right;\">\n",
       "      <th></th>\n",
       "      <th>text</th>\n",
       "      <th>target</th>\n",
       "      <th>processed_text</th>\n",
       "    </tr>\n",
       "  </thead>\n",
       "  <tbody>\n",
       "    <tr>\n",
       "      <th>79378</th>\n",
       "      <td>skype cranky mode</td>\n",
       "      <td>0</td>\n",
       "      <td>[skype, cranky, mode]</td>\n",
       "    </tr>\n",
       "    <tr>\n",
       "      <th>1094081</th>\n",
       "      <td>love new pics friends soooo crazy</td>\n",
       "      <td>4</td>\n",
       "      <td>[love, new, pic, friend, soooo, crazy]</td>\n",
       "    </tr>\n",
       "    <tr>\n",
       "      <th>679774</th>\n",
       "      <td>awake horrible tears eyes morning going feel g...</td>\n",
       "      <td>0</td>\n",
       "      <td>[awake, horrible, tear, eye, morning, go, feel...</td>\n",
       "    </tr>\n",
       "    <tr>\n",
       "      <th>875290</th>\n",
       "      <td>nice link visualization bayes venn diagrams go...</td>\n",
       "      <td>4</td>\n",
       "      <td>[nice, link, visualization, bayes, venn, diagr...</td>\n",
       "    </tr>\n",
       "    <tr>\n",
       "      <th>276676</th>\n",
       "      <td>im kinda prone dropping tear sentimental movie...</td>\n",
       "      <td>0</td>\n",
       "      <td>[I, m, kinda, prone, drop, tear, sentimental, ...</td>\n",
       "    </tr>\n",
       "  </tbody>\n",
       "</table>\n",
       "</div>"
      ],
      "text/plain": [
       "                                                      text  target  \\\n",
       "79378                                    skype cranky mode       0   \n",
       "1094081                  love new pics friends soooo crazy       4   \n",
       "679774   awake horrible tears eyes morning going feel g...       0   \n",
       "875290   nice link visualization bayes venn diagrams go...       4   \n",
       "276676   im kinda prone dropping tear sentimental movie...       0   \n",
       "\n",
       "                                            processed_text  \n",
       "79378                                [skype, cranky, mode]  \n",
       "1094081             [love, new, pic, friend, soooo, crazy]  \n",
       "679774   [awake, horrible, tear, eye, morning, go, feel...  \n",
       "875290   [nice, link, visualization, bayes, venn, diagr...  \n",
       "276676   [I, m, kinda, prone, drop, tear, sentimental, ...  "
      ]
     },
     "execution_count": 91,
     "metadata": {},
     "output_type": "execute_result"
    }
   ],
   "source": [
    "sample['processed_text'] = sample['text'].apply(lambda x: [token.lemma_ for token in nlp(x)])\n",
    "sample.to_csv('tokenized_data.csv', index=False)\n",
    "sample.head(5)"
   ]
  }
 ],
 "metadata": {
  "kernelspec": {
   "display_name": ".venv",
   "language": "python",
   "name": "python3"
  },
  "language_info": {
   "codemirror_mode": {
    "name": "ipython",
    "version": 3
   },
   "file_extension": ".py",
   "mimetype": "text/x-python",
   "name": "python",
   "nbconvert_exporter": "python",
   "pygments_lexer": "ipython3",
   "version": "3.11.1"
  }
 },
 "nbformat": 4,
 "nbformat_minor": 2
}
