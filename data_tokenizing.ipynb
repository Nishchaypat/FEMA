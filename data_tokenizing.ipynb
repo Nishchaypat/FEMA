{
 "cells": [
  {
   "cell_type": "code",
   "execution_count": 1,
   "metadata": {},
   "outputs": [],
   "source": [
    "import pandas as pd\n",
    "import re\n",
    "import spacy\n",
    "from sklearn.model_selection import train_test_split"
   ]
  },
  {
   "cell_type": "markdown",
   "metadata": {},
   "source": [
    "Tokenization:"
   ]
  },
  {
   "cell_type": "code",
   "execution_count": 13,
   "metadata": {},
   "outputs": [],
   "source": [
    "nlp = spacy.load('en_core_web_sm')"
   ]
  },
  {
   "cell_type": "code",
   "execution_count": 14,
   "metadata": {},
   "outputs": [],
   "source": [
    "data = pd.read_csv('data/processed_data.csv')"
   ]
  },
  {
   "cell_type": "code",
   "execution_count": 15,
   "metadata": {},
   "outputs": [
    {
     "data": {
      "text/plain": [
       "RangeIndex(start=0, stop=1589185, step=1)"
      ]
     },
     "execution_count": 15,
     "metadata": {},
     "output_type": "execute_result"
    }
   ],
   "source": [
    "data.dropna(inplace=True)\n",
    "data.reset_index(drop=True, inplace=True)\n",
    "data.index"
   ]
  },
  {
   "cell_type": "code",
   "execution_count": 16,
   "metadata": {},
   "outputs": [
    {
     "data": {
      "text/plain": [
       "30000"
      ]
     },
     "execution_count": 16,
     "metadata": {},
     "output_type": "execute_result"
    }
   ],
   "source": [
    "amount_of_samples = 30000 # temporarily restrict amount of data\n",
    "X = data.drop(columns=['target'])\n",
    "y = data['target']\n",
    "X_train, X_test, y_train, y_test = train_test_split(X, y, test_size=len(data.index)-amount_of_samples, stratify=y)\n",
    "sample = pd.concat([X_train, y_train], axis=1)\n",
    "len(sample.index)"
   ]
  },
  {
   "cell_type": "code",
   "execution_count": 17,
   "metadata": {},
   "outputs": [
    {
     "data": {
      "text/html": [
       "<div>\n",
       "<style scoped>\n",
       "    .dataframe tbody tr th:only-of-type {\n",
       "        vertical-align: middle;\n",
       "    }\n",
       "\n",
       "    .dataframe tbody tr th {\n",
       "        vertical-align: top;\n",
       "    }\n",
       "\n",
       "    .dataframe thead th {\n",
       "        text-align: right;\n",
       "    }\n",
       "</style>\n",
       "<table border=\"1\" class=\"dataframe\">\n",
       "  <thead>\n",
       "    <tr style=\"text-align: right;\">\n",
       "      <th></th>\n",
       "      <th>text</th>\n",
       "      <th>target</th>\n",
       "      <th>processed_text</th>\n",
       "    </tr>\n",
       "  </thead>\n",
       "  <tbody>\n",
       "    <tr>\n",
       "      <th>240369</th>\n",
       "      <td>loving florida beach sunburned</td>\n",
       "      <td>0</td>\n",
       "      <td>love florida beach sunburn</td>\n",
       "    </tr>\n",
       "    <tr>\n",
       "      <th>197360</th>\n",
       "      <td>achievement idle server weapons unlockable nor...</td>\n",
       "      <td>0</td>\n",
       "      <td>achievement idle server weapon unlockable norm...</td>\n",
       "    </tr>\n",
       "    <tr>\n",
       "      <th>1359193</th>\n",
       "      <td>works carrot cake</td>\n",
       "      <td>4</td>\n",
       "      <td>work carrot cake</td>\n",
       "    </tr>\n",
       "    <tr>\n",
       "      <th>1532216</th>\n",
       "      <td>future diabetic america</td>\n",
       "      <td>4</td>\n",
       "      <td>future diabetic america</td>\n",
       "    </tr>\n",
       "    <tr>\n",
       "      <th>1407737</th>\n",
       "      <td>chilling cousin emilys room</td>\n",
       "      <td>4</td>\n",
       "      <td>chill cousin emily room</td>\n",
       "    </tr>\n",
       "  </tbody>\n",
       "</table>\n",
       "</div>"
      ],
      "text/plain": [
       "                                                      text  target  \\\n",
       "240369                      loving florida beach sunburned       0   \n",
       "197360   achievement idle server weapons unlockable nor...       0   \n",
       "1359193                                  works carrot cake       4   \n",
       "1532216                            future diabetic america       4   \n",
       "1407737                        chilling cousin emilys room       4   \n",
       "\n",
       "                                            processed_text  \n",
       "240369                          love florida beach sunburn  \n",
       "197360   achievement idle server weapon unlockable norm...  \n",
       "1359193                                   work carrot cake  \n",
       "1532216                            future diabetic america  \n",
       "1407737                            chill cousin emily room  "
      ]
     },
     "execution_count": 17,
     "metadata": {},
     "output_type": "execute_result"
    }
   ],
   "source": [
    "\n",
    "\n",
    "sample['processed_text'] = sample['text'].apply(lambda x: ' '.join([token.lemma_ for token in nlp(x)]))\n",
    "sample.head(5)"
   ]
  },
  {
   "cell_type": "code",
   "execution_count": 18,
   "metadata": {},
   "outputs": [
    {
     "data": {
      "text/html": [
       "<div>\n",
       "<style scoped>\n",
       "    .dataframe tbody tr th:only-of-type {\n",
       "        vertical-align: middle;\n",
       "    }\n",
       "\n",
       "    .dataframe tbody tr th {\n",
       "        vertical-align: top;\n",
       "    }\n",
       "\n",
       "    .dataframe thead th {\n",
       "        text-align: right;\n",
       "    }\n",
       "</style>\n",
       "<table border=\"1\" class=\"dataframe\">\n",
       "  <thead>\n",
       "    <tr style=\"text-align: right;\">\n",
       "      <th></th>\n",
       "      <th>text</th>\n",
       "      <th>target</th>\n",
       "      <th>processed_text</th>\n",
       "    </tr>\n",
       "  </thead>\n",
       "  <tbody>\n",
       "    <tr>\n",
       "      <th>0</th>\n",
       "      <td>loving florida beach sunburned</td>\n",
       "      <td>0</td>\n",
       "      <td>love florida beach sunburn</td>\n",
       "    </tr>\n",
       "    <tr>\n",
       "      <th>1</th>\n",
       "      <td>achievement idle server weapons unlockable nor...</td>\n",
       "      <td>0</td>\n",
       "      <td>achievement idle server weapon unlockable norm...</td>\n",
       "    </tr>\n",
       "    <tr>\n",
       "      <th>2</th>\n",
       "      <td>works carrot cake</td>\n",
       "      <td>4</td>\n",
       "      <td>work carrot cake</td>\n",
       "    </tr>\n",
       "    <tr>\n",
       "      <th>3</th>\n",
       "      <td>future diabetic america</td>\n",
       "      <td>4</td>\n",
       "      <td>future diabetic america</td>\n",
       "    </tr>\n",
       "    <tr>\n",
       "      <th>4</th>\n",
       "      <td>chilling cousin emilys room</td>\n",
       "      <td>4</td>\n",
       "      <td>chill cousin emily room</td>\n",
       "    </tr>\n",
       "    <tr>\n",
       "      <th>...</th>\n",
       "      <td>...</td>\n",
       "      <td>...</td>\n",
       "      <td>...</td>\n",
       "    </tr>\n",
       "    <tr>\n",
       "      <th>29995</th>\n",
       "      <td>got super rooting powers help big tears eyes</td>\n",
       "      <td>4</td>\n",
       "      <td>get super root power help big tear eye</td>\n",
       "    </tr>\n",
       "    <tr>\n",
       "      <th>29996</th>\n",
       "      <td>haha der gut</td>\n",
       "      <td>4</td>\n",
       "      <td>haha der gut</td>\n",
       "    </tr>\n",
       "    <tr>\n",
       "      <th>29997</th>\n",
       "      <td>hurts need watch sit build models 4 hours stra...</td>\n",
       "      <td>0</td>\n",
       "      <td>hurt need watch sit build model 4 hour straigh...</td>\n",
       "    </tr>\n",
       "    <tr>\n",
       "      <th>29998</th>\n",
       "      <td>festival place crappy week</td>\n",
       "      <td>0</td>\n",
       "      <td>festival place crappy week</td>\n",
       "    </tr>\n",
       "    <tr>\n",
       "      <th>29999</th>\n",
       "      <td>oops tweet hannah lost vball</td>\n",
       "      <td>0</td>\n",
       "      <td>oops tweet hannah lose vball</td>\n",
       "    </tr>\n",
       "  </tbody>\n",
       "</table>\n",
       "<p>30000 rows × 3 columns</p>\n",
       "</div>"
      ],
      "text/plain": [
       "                                                    text  target  \\\n",
       "0                         loving florida beach sunburned       0   \n",
       "1      achievement idle server weapons unlockable nor...       0   \n",
       "2                                      works carrot cake       4   \n",
       "3                                future diabetic america       4   \n",
       "4                            chilling cousin emilys room       4   \n",
       "...                                                  ...     ...   \n",
       "29995       got super rooting powers help big tears eyes       4   \n",
       "29996                                       haha der gut       4   \n",
       "29997  hurts need watch sit build models 4 hours stra...       0   \n",
       "29998                         festival place crappy week       0   \n",
       "29999                       oops tweet hannah lost vball       0   \n",
       "\n",
       "                                          processed_text  \n",
       "0                             love florida beach sunburn  \n",
       "1      achievement idle server weapon unlockable norm...  \n",
       "2                                       work carrot cake  \n",
       "3                                future diabetic america  \n",
       "4                                chill cousin emily room  \n",
       "...                                                  ...  \n",
       "29995             get super root power help big tear eye  \n",
       "29996                                       haha der gut  \n",
       "29997  hurt need watch sit build model 4 hour straigh...  \n",
       "29998                         festival place crappy week  \n",
       "29999                       oops tweet hannah lose vball  \n",
       "\n",
       "[30000 rows x 3 columns]"
      ]
     },
     "execution_count": 18,
     "metadata": {},
     "output_type": "execute_result"
    }
   ],
   "source": [
    "sample = sample.reset_index(drop=True) \n",
    "sample.to_csv('data/tokenized_data.csv', header=None)\n",
    "sample"
   ]
  }
 ],
 "metadata": {
  "kernelspec": {
   "display_name": ".venv",
   "language": "python",
   "name": "python3"
  },
  "language_info": {
   "codemirror_mode": {
    "name": "ipython",
    "version": 3
   },
   "file_extension": ".py",
   "mimetype": "text/x-python",
   "name": "python",
   "nbconvert_exporter": "python",
   "pygments_lexer": "ipython3",
   "version": "3.11.1"
  }
 },
 "nbformat": 4,
 "nbformat_minor": 2
}
