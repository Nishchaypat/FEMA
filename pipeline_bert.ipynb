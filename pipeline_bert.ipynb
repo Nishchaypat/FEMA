{
 "cells": [
  {
   "cell_type": "code",
   "execution_count": 27,
   "metadata": {},
   "outputs": [],
   "source": [
    "import pandas as pd\n",
    "import numpy as np\n",
    "import tensorflow as tf\n",
    "import tensorflow_hub as hub\n",
    "import tensorflow_text as text\n",
    "from sklearn.base import BaseEstimator, TransformerMixin\n",
    "from sklearn.pipeline import Pipeline\n",
    "from sklearn.model_selection import train_test_split\n",
    "from sklearn.pipeline import make_pipeline"
   ]
  },
  {
   "cell_type": "code",
   "execution_count": 28,
   "metadata": {},
   "outputs": [
    {
     "name": "stdout",
     "output_type": "stream",
     "text": [
      "WARNING:tensorflow:No training configuration found in save file, so the model was *not* compiled. Compile it manually.\n"
     ]
    },
    {
     "name": "stderr",
     "output_type": "stream",
     "text": [
      "WARNING:tensorflow:No training configuration found in save file, so the model was *not* compiled. Compile it manually.\n"
     ]
    }
   ],
   "source": [
    "class FastBertPredictor:\n",
    "    def __init__(self, model_path='Best_82'):\n",
    "        # Load model once during initialization\n",
    "        self.model = tf.keras.models.load_model(\n",
    "            model_path,\n",
    "            custom_objects={'KerasLayer': hub.KerasLayer}\n",
    "        )\n",
    "        # Compile the model\n",
    "        self.model.compile(\n",
    "            optimizer='adam',\n",
    "            loss='binary_crossentropy',\n",
    "            metrics=['accuracy']\n",
    "        )\n",
    "        \n",
    "    def predict(self, text):\n",
    "        # Convert input to array if it's a single string\n",
    "        if isinstance(text, str):\n",
    "            text = np.array([text])\n",
    "        elif isinstance(text, list):\n",
    "            text = np.array(text)\n",
    "            \n",
    "        # Make prediction\n",
    "        prediction = self.model.predict(text, verbose=0)  # Set verbose=0 to suppress output\n",
    "        print(prediction)\n",
    "        return prediction\n",
    "\n",
    "# Initialize predictor once (globally)\n",
    "predictor = FastBertPredictor()\n",
    "\n",
    "def quick_predict(text):\n",
    "    \"\"\"\n",
    "    Fast prediction for a single text\n",
    "    \"\"\"\n",
    "    prediction = predictor.predict(text)\n",
    "    return \"positive\" if prediction[0] == 1 else \"negative\""
   ]
  },
  {
   "cell_type": "code",
   "execution_count": null,
   "metadata": {},
   "outputs": [
    {
     "name": "stdout",
     "output_type": "stream",
     "text": [
      "[[0.67554706]]\n",
      "Text: 'I am Nishchay, I love to play badminton, I hate the taste of bittergord, but I like swimming'\n",
      "Sentiment: negative\n",
      "[[0.67554706]]\n",
      "\n",
      "Text: 'I am Nishchay, I love to play badminton, I hate the taste of bittergord, but I like swimming'\n",
      "Sentiment: negative\n"
     ]
    }
   ],
   "source": [
    "# Example usage\n",
    "if __name__ == \"__main__\":\n",
    "    # Single text prediction\n",
    "    text = \"I am Nishchay, I love to play badminton, I hate the taste of bittergord, but I like swimming\"\n",
    "    result = quick_predict(text)\n",
    "    print(f\"Text: '{text}'\\nSentiment: {result}\")\n",
    "    \n",
    "    # Multiple texts prediction (if needed)\n",
    "    texts = [\n",
    "        \"I am Nishchay, I love to play badminton, I hate the taste of bittergord, but I like swimming\"\n",
    "    ]\n",
    "    \n",
    "    predictions = predictor.predict(texts)\n",
    "    for text, pred in zip(texts, predictions):\n",
    "        sentiment = \"positive\" if pred == 1 else \"negative\"\n",
    "        print(f\"\\nText: '{text}'\\nSentiment: {sentiment}\")"
   ]
  }
 ],
 "metadata": {
  "kernelspec": {
   "display_name": "Text-Analysis",
   "language": "python",
   "name": "python3"
  },
  "language_info": {
   "codemirror_mode": {
    "name": "ipython",
    "version": 3
   },
   "file_extension": ".py",
   "mimetype": "text/x-python",
   "name": "python",
   "nbconvert_exporter": "python",
   "pygments_lexer": "ipython3",
   "version": "3.9.20"
  }
 },
 "nbformat": 4,
 "nbformat_minor": 2
}
