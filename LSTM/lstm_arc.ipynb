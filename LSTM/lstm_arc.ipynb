{
 "cells": [
  {
   "cell_type": "code",
   "execution_count": 1,
   "metadata": {},
   "outputs": [],
   "source": [
    "import pandas as pd\n",
    "import numpy as np\n",
    "import re\n",
    "import nltk\n",
    "from nltk.corpus import stopwords\n",
    "from numpy import array\n",
    "\n",
    "from keras.preprocessing.text import one_hot, Tokenizer\n",
    "from tensorflow.keras.preprocessing.sequence import pad_sequences\n",
    "from keras.models import Sequential\n",
    "from keras.layers.core import Activation, Dropout, Dense\n",
    "from keras.layers import Flatten, GlobalMaxPooling1D, Embedding, Conv1D, LSTM\n",
    "from sklearn.model_selection import train_test_split\n",
    "from sklearn.utils import shuffle\n",
    "from numpy import asarray\n",
    "from numpy import zeros\n",
    "import matplotlib.pyplot as plt\n",
    "from keras.layers import Conv1D, RNN, Embedding, SimpleRNN, Dense\n",
    "\n",
    "from keras.models import Sequential\n",
    "from tensorflow.keras.models import Sequential\n",
    "from tensorflow.keras.layers import Embedding, LSTM, Dense, Dropout, Bidirectional, Attention, GlobalAveragePooling1D\n",
    "from tensorflow.keras.optimizers import Adam"
   ]
  },
  {
   "cell_type": "code",
   "execution_count": null,
   "metadata": {},
   "outputs": [
    {
     "data": {
      "text/html": [
       "<div>\n",
       "<style scoped>\n",
       "    .dataframe tbody tr th:only-of-type {\n",
       "        vertical-align: middle;\n",
       "    }\n",
       "\n",
       "    .dataframe tbody tr th {\n",
       "        vertical-align: top;\n",
       "    }\n",
       "\n",
       "    .dataframe thead th {\n",
       "        text-align: right;\n",
       "    }\n",
       "</style>\n",
       "<table border=\"1\" class=\"dataframe\">\n",
       "  <thead>\n",
       "    <tr style=\"text-align: right;\">\n",
       "      <th></th>\n",
       "      <th>target</th>\n",
       "      <th>text</th>\n",
       "    </tr>\n",
       "  </thead>\n",
       "  <tbody>\n",
       "    <tr>\n",
       "      <th>0</th>\n",
       "      <td>0</td>\n",
       "      <td>awww that's bummer. shoulda got david carr day...</td>\n",
       "    </tr>\n",
       "    <tr>\n",
       "      <th>1</th>\n",
       "      <td>0</td>\n",
       "      <td>upset can't update facebook texting it... resu...</td>\n",
       "    </tr>\n",
       "    <tr>\n",
       "      <th>2</th>\n",
       "      <td>0</td>\n",
       "      <td>dived times ball. managed save 50 rest bounds</td>\n",
       "    </tr>\n",
       "    <tr>\n",
       "      <th>3</th>\n",
       "      <td>0</td>\n",
       "      <td>body feels itchy like</td>\n",
       "    </tr>\n",
       "    <tr>\n",
       "      <th>4</th>\n",
       "      <td>0</td>\n",
       "      <td>it's behaving all. i'm mad. can't there.</td>\n",
       "    </tr>\n",
       "    <tr>\n",
       "      <th>...</th>\n",
       "      <td>...</td>\n",
       "      <td>...</td>\n",
       "    </tr>\n",
       "    <tr>\n",
       "      <th>1599995</th>\n",
       "      <td>4</td>\n",
       "      <td>woke up. having school best feeling</td>\n",
       "    </tr>\n",
       "    <tr>\n",
       "      <th>1599996</th>\n",
       "      <td>4</td>\n",
       "      <td>thewdb.com cool hear old walt interviews</td>\n",
       "    </tr>\n",
       "    <tr>\n",
       "      <th>1599997</th>\n",
       "      <td>4</td>\n",
       "      <td>ready mojo makeover ask details</td>\n",
       "    </tr>\n",
       "    <tr>\n",
       "      <th>1599998</th>\n",
       "      <td>4</td>\n",
       "      <td>happy 38th birthday boo alll tears eyes tupac ...</td>\n",
       "    </tr>\n",
       "    <tr>\n",
       "      <th>1599999</th>\n",
       "      <td>4</td>\n",
       "      <td>happy</td>\n",
       "    </tr>\n",
       "  </tbody>\n",
       "</table>\n",
       "<p>1600000 rows × 2 columns</p>\n",
       "</div>"
      ],
      "text/plain": [
       "         target                                               text\n",
       "0             0  awww that's bummer. shoulda got david carr day...\n",
       "1             0  upset can't update facebook texting it... resu...\n",
       "2             0      dived times ball. managed save 50 rest bounds\n",
       "3             0                              body feels itchy like\n",
       "4             0           it's behaving all. i'm mad. can't there.\n",
       "...         ...                                                ...\n",
       "1599995       4                woke up. having school best feeling\n",
       "1599996       4          thewdb.com cool hear old walt interviews \n",
       "1599997       4                    ready mojo makeover ask details\n",
       "1599998       4  happy 38th birthday boo alll tears eyes tupac ...\n",
       "1599999       4                                              happy\n",
       "\n",
       "[1600000 rows x 2 columns]"
      ]
     },
     "execution_count": 2,
     "metadata": {},
     "output_type": "execute_result"
    }
   ],
   "source": [
    "data = pd.read_csv(r'../data-files/processed_data.csv')\n",
    "data"
   ]
  },
  {
   "cell_type": "code",
   "execution_count": 3,
   "metadata": {},
   "outputs": [],
   "source": [
    "data = shuffle(data, random_state=42).reset_index(drop=True)\n",
    "data['target'] = data['target'].apply(lambda x: 0 if x == 0 else 1)"
   ]
  },
  {
   "cell_type": "code",
   "execution_count": null,
   "metadata": {},
   "outputs": [],
   "source": [
    "X = data['text'].tolist()\n",
    "Y = data['target'].tolist()\n",
    "Y"
   ]
  },
  {
   "cell_type": "code",
   "execution_count": 5,
   "metadata": {},
   "outputs": [],
   "source": [
    "X_train, X_test, y_train, y_test = train_test_split(X, Y, test_size=0.2, random_state=42)"
   ]
  },
  {
   "cell_type": "code",
   "execution_count": 6,
   "metadata": {},
   "outputs": [],
   "source": [
    "X_train = [str(text) for text in X_train if isinstance(text, (str, float))]\n",
    "X_test = [str(text) for text in X_test if isinstance(text, (str, float))]"
   ]
  },
  {
   "cell_type": "code",
   "execution_count": 7,
   "metadata": {},
   "outputs": [],
   "source": [
    "y_train = np.array(y_train)\n",
    "y_test = np.array(y_test)"
   ]
  },
  {
   "cell_type": "code",
   "execution_count": 8,
   "metadata": {},
   "outputs": [],
   "source": [
    "word_tokenizer = Tokenizer()\n",
    "word_tokenizer.fit_on_texts(X_train)\n",
    "\n",
    "X_train = word_tokenizer.texts_to_sequences(X_train)\n",
    "X_test = word_tokenizer.texts_to_sequences(X_test)"
   ]
  },
  {
   "cell_type": "code",
   "execution_count": 9,
   "metadata": {},
   "outputs": [
    {
     "data": {
      "text/plain": [
       "322144"
      ]
     },
     "execution_count": 9,
     "metadata": {},
     "output_type": "execute_result"
    }
   ],
   "source": [
    "vocab_length = len(word_tokenizer.word_index) + 1\n",
    "\n",
    "vocab_length"
   ]
  },
  {
   "cell_type": "code",
   "execution_count": 10,
   "metadata": {},
   "outputs": [],
   "source": [
    "maxlen = 100\n",
    "\n",
    "X_train = pad_sequences(X_train, padding='post', maxlen=maxlen)\n",
    "X_test = pad_sequences(X_test, padding='post', maxlen=maxlen)"
   ]
  },
  {
   "cell_type": "code",
   "execution_count": 12,
   "metadata": {},
   "outputs": [],
   "source": [
    "embeddings_dictionary = dict()\n",
    "glove_file = open('../a2_glove.6B.100d.txt', encoding=\"utf8\")\n",
    "\n",
    "for line in glove_file:\n",
    "    records = line.split()\n",
    "    word = records[0]\n",
    "    vector_dimensions = asarray(records[1:], dtype='float32')\n",
    "    embeddings_dictionary [word] = vector_dimensions\n",
    "glove_file.close()"
   ]
  },
  {
   "cell_type": "code",
   "execution_count": 13,
   "metadata": {},
   "outputs": [
    {
     "data": {
      "text/plain": [
       "(322144, 100)"
      ]
     },
     "execution_count": 13,
     "metadata": {},
     "output_type": "execute_result"
    }
   ],
   "source": [
    "embedding_matrix = zeros((vocab_length, 100))\n",
    "for word, index in word_tokenizer.word_index.items():\n",
    "    embedding_vector = embeddings_dictionary.get(word)\n",
    "    if embedding_vector is not None:\n",
    "        embedding_matrix[index] = embedding_vector\n",
    "\n",
    "embedding_matrix.shape"
   ]
  },
  {
   "cell_type": "code",
   "execution_count": null,
   "metadata": {},
   "outputs": [],
   "source": [
    "type(embedding_matrix)\n",
    "np.savetxt('embedding_matrix_lstm.csv', embedding_matrix, delimiter=',')"
   ]
  },
  {
   "cell_type": "markdown",
   "metadata": {},
   "source": [
    "----------\n",
    "SAVED\n",
    "_________"
   ]
  },
  {
   "cell_type": "code",
   "execution_count": null,
   "metadata": {},
   "outputs": [],
   "source": [
    "loaded_embedding_matrix = np.loadtxt('embedding_matrix_lstm.csv', delimiter=',')"
   ]
  },
  {
   "cell_type": "code",
   "execution_count": 14,
   "metadata": {},
   "outputs": [],
   "source": [
    "snn_model = Sequential()\n",
    "embedding_layer = Embedding(vocab_length, 100, weights=[embedding_matrix], input_length=maxlen , trainable=False)\n",
    "\n",
    "snn_model.add(embedding_layer)\n",
    "\n",
    "snn_model.add(Flatten())\n",
    "snn_model.add(Dense(1, activation='sigmoid'))"
   ]
  },
  {
   "cell_type": "code",
   "execution_count": 15,
   "metadata": {},
   "outputs": [
    {
     "name": "stdout",
     "output_type": "stream",
     "text": [
      "Model: \"sequential\"\n",
      "_________________________________________________________________\n",
      " Layer (type)                Output Shape              Param #   \n",
      "=================================================================\n",
      " embedding (Embedding)       (None, 100, 100)          32214400  \n",
      "                                                                 \n",
      " flatten (Flatten)           (None, 10000)             0         \n",
      "                                                                 \n",
      " dense (Dense)               (None, 1)                 10001     \n",
      "                                                                 \n",
      "=================================================================\n",
      "Total params: 32,224,401\n",
      "Trainable params: 10,001\n",
      "Non-trainable params: 32,214,400\n",
      "_________________________________________________________________\n",
      "None\n"
     ]
    }
   ],
   "source": [
    "snn_model.compile(optimizer='adam', loss='binary_crossentropy', metrics=['acc'])\n",
    "\n",
    "print(snn_model.summary())"
   ]
  },
  {
   "cell_type": "code",
   "execution_count": 16,
   "metadata": {},
   "outputs": [
    {
     "name": "stdout",
     "output_type": "stream",
     "text": [
      "Epoch 1/6\n",
      "8000/8000 [==============================] - 26s 3ms/step - loss: 0.5938 - acc: 0.6858 - val_loss: 0.5893 - val_acc: 0.6923\n",
      "Epoch 2/6\n",
      "8000/8000 [==============================] - 26s 3ms/step - loss: 0.5903 - acc: 0.6899 - val_loss: 0.5898 - val_acc: 0.6912\n",
      "Epoch 3/6\n",
      "8000/8000 [==============================] - 26s 3ms/step - loss: 0.5901 - acc: 0.6898 - val_loss: 0.5903 - val_acc: 0.6912\n",
      "Epoch 4/6\n",
      "8000/8000 [==============================] - 26s 3ms/step - loss: 0.5902 - acc: 0.6903 - val_loss: 0.5892 - val_acc: 0.6919\n",
      "Epoch 5/6\n",
      "8000/8000 [==============================] - 25s 3ms/step - loss: 0.5901 - acc: 0.6901 - val_loss: 0.5920 - val_acc: 0.6902\n",
      "Epoch 6/6\n",
      "8000/8000 [==============================] - 25s 3ms/step - loss: 0.5901 - acc: 0.6902 - val_loss: 0.5900 - val_acc: 0.6911\n"
     ]
    }
   ],
   "source": [
    "snn_model_history = snn_model.fit(X_train, y_train, batch_size=128, epochs=6, verbose=1, validation_split=0.2)"
   ]
  },
  {
   "cell_type": "code",
   "execution_count": 17,
   "metadata": {},
   "outputs": [
    {
     "name": "stdout",
     "output_type": "stream",
     "text": [
      "10000/10000 [==============================] - 14s 1ms/step - loss: 0.5899 - acc: 0.6902\n",
      "Test Score: 0.5898541212081909\n",
      "Test Accuracy: 0.690165638923645\n"
     ]
    }
   ],
   "source": [
    "score = snn_model.evaluate(X_test, y_test, verbose=1)\n",
    "print(\"Test Score:\", score[0])\n",
    "print(\"Test Accuracy:\", score[1])"
   ]
  },
  {
   "cell_type": "code",
   "execution_count": 18,
   "metadata": {},
   "outputs": [
    {
     "data": {
      "image/png": "[encoded data removed]",
      "text/plain": [
       "<Figure size 640x480 with 1 Axes>"
      ]
     },
     "metadata": {},
     "output_type": "display_data"
    },
    {
     "data": {
      "image/png": "[encoded data removed]",
      "text/plain": [
       "<Figure size 640x480 with 1 Axes>"
      ]
     },
     "metadata": {},
     "output_type": "display_data"
    }
   ],
   "source": [
    "\n",
    "plt.plot(snn_model_history.history['acc'])\n",
    "plt.plot(snn_model_history.history['val_acc'])\n",
    "\n",
    "plt.title('model accuracy')\n",
    "plt.ylabel('accuracy')\n",
    "plt.xlabel('epoch')\n",
    "plt.legend(['train','test'], loc='upper left')\n",
    "plt.show()\n",
    "\n",
    "plt.plot(snn_model_history.history['loss'])\n",
    "plt.plot(snn_model_history.history['val_loss'])\n",
    "\n",
    "plt.title('model loss')\n",
    "plt.ylabel('loss')\n",
    "plt.xlabel('epoch')\n",
    "plt.legend(['train','test'], loc='upper left')\n",
    "plt.show()"
   ]
  },
  {
   "cell_type": "code",
   "execution_count": 19,
   "metadata": {},
   "outputs": [],
   "source": [
    "cnn_model = Sequential()\n",
    "\n",
    "embedding_layer = Embedding(vocab_length, 100, weights=[embedding_matrix], input_length=maxlen , trainable=False)\n",
    "cnn_model.add(embedding_layer)\n",
    "\n",
    "cnn_model.add(Conv1D(128, 5, activation='relu'))\n",
    "cnn_model.add(GlobalMaxPooling1D())\n",
    "cnn_model.add(Dense(1, activation='sigmoid'))"
   ]
  },
  {
   "cell_type": "code",
   "execution_count": 20,
   "metadata": {},
   "outputs": [
    {
     "name": "stdout",
     "output_type": "stream",
     "text": [
      "Model: \"sequential_1\"\n",
      "_________________________________________________________________\n",
      " Layer (type)                Output Shape              Param #   \n",
      "=================================================================\n",
      " embedding_1 (Embedding)     (None, 100, 100)          32214400  \n",
      "                                                                 \n",
      " conv1d (Conv1D)             (None, 96, 128)           64128     \n",
      "                                                                 \n",
      " global_max_pooling1d (Globa  (None, 128)              0         \n",
      " lMaxPooling1D)                                                  \n",
      "                                                                 \n",
      " dense_1 (Dense)             (None, 1)                 129       \n",
      "                                                                 \n",
      "=================================================================\n",
      "Total params: 32,278,657\n",
      "Trainable params: 64,257\n",
      "Non-trainable params: 32,214,400\n",
      "_________________________________________________________________\n",
      "None\n"
     ]
    }
   ],
   "source": [
    "cnn_model.compile(optimizer='adam', loss='binary_crossentropy', metrics=['acc'])\n",
    "print(cnn_model.summary())"
   ]
  },
  {
   "cell_type": "code",
   "execution_count": 21,
   "metadata": {},
   "outputs": [
    {
     "name": "stdout",
     "output_type": "stream",
     "text": [
      "Epoch 1/6\n",
      "8000/8000 [==============================] - 160s 20ms/step - loss: 0.5214 - acc: 0.7376 - val_loss: 0.5148 - val_acc: 0.7422\n",
      "Epoch 2/6\n",
      "8000/8000 [==============================] - 162s 20ms/step - loss: 0.4956 - acc: 0.7562 - val_loss: 0.5019 - val_acc: 0.7520\n",
      "Epoch 3/6\n",
      "8000/8000 [==============================] - 164s 20ms/step - loss: 0.4848 - acc: 0.7635 - val_loss: 0.4973 - val_acc: 0.7548\n",
      "Epoch 4/6\n",
      "8000/8000 [==============================] - 163s 20ms/step - loss: 0.4771 - acc: 0.7689 - val_loss: 0.4972 - val_acc: 0.7558\n",
      "Epoch 5/6\n",
      "8000/8000 [==============================] - 163s 20ms/step - loss: 0.4708 - acc: 0.7728 - val_loss: 0.4965 - val_acc: 0.7558\n",
      "Epoch 6/6\n",
      "8000/8000 [==============================] - 164s 20ms/step - loss: 0.4659 - acc: 0.7760 - val_loss: 0.4970 - val_acc: 0.7567\n"
     ]
    }
   ],
   "source": [
    "cnn_model_history = cnn_model.fit(X_train, y_train, batch_size=128, epochs=6, verbose=1, validation_split=0.2)"
   ]
  },
  {
   "cell_type": "code",
   "execution_count": 22,
   "metadata": {},
   "outputs": [
    {
     "name": "stdout",
     "output_type": "stream",
     "text": [
      "Test Score: 0.5898541212081909\n",
      "Test Accuracy: 0.690165638923645\n"
     ]
    }
   ],
   "source": [
    "print(\"Test Score:\", score[0])\n",
    "print(\"Test Accuracy:\", score[1])"
   ]
  },
  {
   "cell_type": "code",
   "execution_count": 23,
   "metadata": {},
   "outputs": [
    {
     "data": {
      "image/png": "[encoded data removed]",
      "text/plain": [
       "<Figure size 640x480 with 1 Axes>"
      ]
     },
     "metadata": {},
     "output_type": "display_data"
    },
    {
     "data": {
      "image/png": "[encoded data removed]",
      "text/plain": [
       "<Figure size 640x480 with 1 Axes>"
      ]
     },
     "metadata": {},
     "output_type": "display_data"
    }
   ],
   "source": [
    "plt.plot(cnn_model_history.history['acc'])\n",
    "plt.plot(cnn_model_history.history['val_acc'])\n",
    "\n",
    "plt.title('model accuracy')\n",
    "plt.ylabel('accuracy')\n",
    "plt.xlabel('epoch')\n",
    "plt.legend(['train','test'], loc = 'upper left')\n",
    "plt.show()\n",
    "\n",
    "plt.plot(cnn_model_history.history['loss'])\n",
    "plt.plot(cnn_model_history.history['val_loss'])\n",
    "\n",
    "plt.title('model loss')\n",
    "plt.ylabel('loss')\n",
    "plt.xlabel('epoch')\n",
    "plt.legend(['train','test'], loc = 'upper left')\n",
    "plt.show()"
   ]
  },
  {
   "cell_type": "code",
   "execution_count": 24,
   "metadata": {},
   "outputs": [
    {
     "name": "stdout",
     "output_type": "stream",
     "text": [
      "Model: \"sequential_2\"\n",
      "_________________________________________________________________\n",
      " Layer (type)                Output Shape              Param #   \n",
      "=================================================================\n",
      " embedding_2 (Embedding)     (None, 100, 100)          32214400  \n",
      "                                                                 \n",
      " simple_rnn (SimpleRNN)      (None, 128)               29312     \n",
      "                                                                 \n",
      " dense_2 (Dense)             (None, 1)                 129       \n",
      "                                                                 \n",
      "=================================================================\n",
      "Total params: 32,243,841\n",
      "Trainable params: 29,441\n",
      "Non-trainable params: 32,214,400\n",
      "_________________________________________________________________\n"
     ]
    }
   ],
   "source": [
    "rnn_model = Sequential()\n",
    "\n",
    "embedding_layer = Embedding(vocab_length, 100, weights=[embedding_matrix], input_length=maxlen, trainable=False)\n",
    "rnn_model.add(embedding_layer)\n",
    "\n",
    "rnn_model.add(SimpleRNN(128))\n",
    "\n",
    "rnn_model.add(Dense(1, activation='sigmoid'))\n",
    "\n",
    "rnn_model.compile(loss='binary_crossentropy', optimizer='adam', metrics=['accuracy'])\n",
    "\n",
    "rnn_model.summary()"
   ]
  },
  {
   "cell_type": "code",
   "execution_count": 25,
   "metadata": {},
   "outputs": [
    {
     "name": "stdout",
     "output_type": "stream",
     "text": [
      "Epoch 1/6\n",
      "8000/8000 [==============================] - 280s 35ms/step - loss: 0.6938 - accuracy: 0.5035 - val_loss: 0.6931 - val_accuracy: 0.4993\n",
      "Epoch 2/6\n",
      "8000/8000 [==============================] - 296s 37ms/step - loss: 0.6942 - accuracy: 0.5000 - val_loss: 0.6932 - val_accuracy: 0.5016\n",
      "Epoch 3/6\n",
      "8000/8000 [==============================] - 290s 36ms/step - loss: 0.6942 - accuracy: 0.5007 - val_loss: 0.7002 - val_accuracy: 0.5021\n",
      "Epoch 4/6\n",
      "8000/8000 [==============================] - 306s 38ms/step - loss: 0.6943 - accuracy: 0.5004 - val_loss: 0.6942 - val_accuracy: 0.5017\n",
      "Epoch 5/6\n",
      "8000/8000 [==============================] - 303s 38ms/step - loss: 0.6942 - accuracy: 0.5010 - val_loss: 0.6936 - val_accuracy: 0.5011\n",
      "Epoch 6/6\n",
      "8000/8000 [==============================] - 304s 38ms/step - loss: 0.6944 - accuracy: 0.5014 - val_loss: 0.6957 - val_accuracy: 0.4969\n"
     ]
    }
   ],
   "source": [
    "rnn_model_history = rnn_model.fit(X_train, y_train, batch_size=128, epochs=6, verbose=1, validation_split=0.2)"
   ]
  },
  {
   "cell_type": "code",
   "execution_count": 26,
   "metadata": {},
   "outputs": [
    {
     "name": "stdout",
     "output_type": "stream",
     "text": [
      "10000/10000 [==============================] - 63s 6ms/step - loss: 0.6956 - accuracy: 0.4972\n",
      "Test Score: 0.6956378221511841\n",
      "Test Accuracy: 0.49716874957084656\n"
     ]
    }
   ],
   "source": [
    "score = rnn_model.evaluate(X_test, y_test, verbose=1)\n",
    "print(\"Test Score:\", score[0])\n",
    "print(\"Test Accuracy:\", score[1])"
   ]
  },
  {
   "cell_type": "code",
   "execution_count": null,
   "metadata": {},
   "outputs": [],
   "source": [
    "lstm_model = Sequential()\n",
    "\n",
    "# Embedding layer (use pre-trained embeddings like GloVe or FastText, fine-tune during training)\n",
    "embedding_layer = Embedding(vocab_length, 100, weights=[embedding_matrix], input_length=maxlen, trainable=False)\n",
    "lstm_model.add(embedding_layer)\n",
    "\n",
    "# Bidirectional LSTM Layer (captures context from both ends of the sentence)\n",
    "lstm_model.add(Bidirectional(LSTM(128, return_sequences=True)))\n",
    "\n",
    "# Attention Layer (self-attention)\n",
    "# Pass the same tensor as both query and value\n",
    "attention_output = Attention()([lstm_model.output, lstm_model.output])\n",
    "\n",
    "# Global Average Pooling to reduce the output dimensionality\n",
    "lstm_model.add(GlobalAveragePooling1D())\n",
    "\n",
    "# Dropout Layer (regularization to prevent overfitting)\n",
    "lstm_model.add(Dropout(0.5))\n",
    "\n",
    "# Dense Layer (final classification layer)\n",
    "lstm_model.add(Dense(64, activation='relu'))\n",
    "lstm_model.add(Dropout(0.5))\n",
    "lstm_model.add(Dense(1, activation='sigmoid'))"
   ]
  },
  {
   "cell_type": "code",
   "execution_count": null,
   "metadata": {},
   "outputs": [],
   "source": [
    "lstm_model.compile(optimizer=Adam(learning_rate=1e-4), loss='binary_crossentropy', metrics=['accuracy'])\n",
    "print(lstm_model.summary())"
   ]
  },
  {
   "cell_type": "code",
   "execution_count": null,
   "metadata": {},
   "outputs": [],
   "source": [
    "lstm_model_history = lstm_model.fit(X_train, y_train, batch_size=128, epochs=6, verbose=1, validation_split=0.2)"
   ]
  },
  {
   "cell_type": "code",
   "execution_count": null,
   "metadata": {},
   "outputs": [],
   "source": [
    "score = lstm_model.evaluate(X_test, y_test, verbose=1)"
   ]
  },
  {
   "cell_type": "code",
   "execution_count": null,
   "metadata": {},
   "outputs": [],
   "source": [
    "print(\"Test Score:\", score[0])\n",
    "print(\"Test Accuracy:\", score[1])"
   ]
  },
  {
   "cell_type": "code",
   "execution_count": null,
   "metadata": {},
   "outputs": [],
   "source": [
    "plt.plot(lstm_model_history.history['accuracy'])\n",
    "plt.plot(lstm_model_history.history['val_accuracy'])\n",
    "\n",
    "plt.title('model accuracy')\n",
    "plt.ylabel('accuracy')\n",
    "plt.xlabel('epoch')\n",
    "plt.legend(['train','test'], loc='upper left')\n",
    "plt.show()\n",
    "\n",
    "plt.plot(lstm_model_history.history['loss'])\n",
    "plt.plot(lstm_model_history.history['val_loss'])\n",
    "\n",
    "plt.title('model loss')\n",
    "plt.ylabel('loss')\n",
    "plt.xlabel('epoch')\n",
    "plt.legend(['train','test'], loc='upper left')\n",
    "plt.show()"
   ]
  },
  {
   "cell_type": "code",
   "execution_count": null,
   "metadata": {},
   "outputs": [],
   "source": [
    "print()"
   ]
  },
  {
   "cell_type": "code",
   "execution_count": null,
   "metadata": {},
   "outputs": [],
   "source": [
    "import keras_tuner as kt\n",
    "from tensorflow.keras.models import Sequential\n",
    "from tensorflow.keras.layers import Embedding, LSTM, Bidirectional, Attention, GlobalAveragePooling1D, Dropout, Dense\n",
    "from tensorflow.keras.optimizers import Adam\n",
    "\n",
    "def build_model(hp):\n",
    "    # Define the model architecture\n",
    "    lstm_model = Sequential()\n",
    "\n",
    "    # Embedding layer (use pre-trained embeddings like GloVe or FastText, fine-tune during training)\n",
    "    embedding_layer = Embedding(vocab_length, 100, weights=[embedding_matrix], input_length=maxlen, trainable=False)\n",
    "    lstm_model.add(embedding_layer)\n",
    "\n",
    "    # Bidirectional LSTM Layer (captures context from both ends of the sentence)\n",
    "    lstm_model.add(Bidirectional(LSTM(\n",
    "        units=hp.Int('lstm_units', min_value=128, max_value=240, step=32), \n",
    "        return_sequences=True)))\n",
    "\n",
    "    # Attention Layer (self-attention)\n",
    "    attention_output = Attention()([lstm_model.output, lstm_model.output])\n",
    "\n",
    "    # Global Average Pooling to reduce the output dimensionality\n",
    "    lstm_model.add(GlobalAveragePooling1D())\n",
    "\n",
    "    # Dropout Layer (regularization to prevent overfitting)\n",
    "    lstm_model.add(Dropout(rate=hp.Float('dropout_rate', min_value=0.2, max_value=0.7, step=0.1)))\n",
    "\n",
    "    # Dense Layer (final classification layer)\n",
    "    lstm_model.add(Dense(\n",
    "        units=hp.Int('dense_units', min_value=64, max_value=180, step=32),\n",
    "        activation='relu'))\n",
    "    lstm_model.add(Dropout(rate=hp.Float('dropout_rate_2', min_value=0.2, max_value=0.7, step=0.1)))\n",
    "    lstm_model.add(Dense(1, activation='sigmoid'))\n",
    "\n",
    "    # Compile the model with an optimizer\n",
    "    lstm_model.compile(\n",
    "        optimizer=Adam(learning_rate=hp.Float('learning_rate', min_value=1e-5, max_value=1e-2, sampling='LOG')),\n",
    "        loss='binary_crossentropy',  # Use binary crossentropy for binary classification tasks\n",
    "        metrics=['accuracy']\n",
    "    )\n",
    "\n",
    "    return lstm_model\n",
    "\n",
    "# Define the tuner\n",
    "tuner = kt.BayesianOptimization(\n",
    "    build_model,\n",
    "    objective='accuracy',\n",
    "    max_trials=10,  # Number of trials to run\n",
    "    executions_per_trial=1,  # Run each trial once\n",
    "    directory='my_dir_2',  # Save results here\n",
    "    project_name='lstm_bayesian_tuning_2'\n",
    ")\n",
    "\n",
    "# Perform the hyperparameter search\n",
    "tuner.search(X_train, y_train, epochs=2)\n",
    "\n",
    "# Get the best hyperparameterss\n",
    "best_hp = tuner.get_best_hyperparameters(num_trials=1)[0]\n",
    "print(f\"Best Hyperparameters: {best_hp.values}\")\n"
   ]
  },
  {
   "cell_type": "code",
   "execution_count": null,
   "metadata": {},
   "outputs": [],
   "source": [
    "best_model = tuner.get_best_models(num_models=1)[0]\n",
    "best_model.save('best_lstm_model_new.h5')"
   ]
  },
  {
   "cell_type": "markdown",
   "metadata": {},
   "source": [
    "Best Hyperparameters: {'lstm_units': 192, 'dropout_rate': 0.5, 'dense_units': 128, 'dropout_rate_2': 0.30000000000000004, 'learning_rate': 0.0010872353209015178}"
   ]
  },
  {
   "cell_type": "code",
   "execution_count": null,
   "metadata": {},
   "outputs": [],
   "source": [
    "from ibm_watson_machine_learning import APIClient\n",
    "import json\n",
    "import numpy as np"
   ]
  },
  {
   "cell_type": "code",
   "execution_count": null,
   "metadata": {},
   "outputs": [],
   "source": [
    "wml_creds ={\n",
    "    \"apikey\": '_KnZKtXJvhFYIq2z5Ot08WKKpfBwbsgyj3CWsxYHJyds',\n",
    "    \"url\": \"https://us-south.ml.cloud.ibm.com\"\n",
    "}"
   ]
  },
  {
   "cell_type": "code",
   "execution_count": null,
   "metadata": {},
   "outputs": [],
   "source": [
    "wml_client = APIClient(wml_credentials=wml_creds)\n",
    "wml_client.spaces.list()"
   ]
  },
  {
   "cell_type": "code",
   "execution_count": null,
   "metadata": {},
   "outputs": [],
   "source": [
    "SPACE_ID ='6760b3b6-140d-46c0-861e-2eebda2dd6ab'\n",
    "wml_client.set.default_space(SPACE_ID)\n",
    "print(f\"Default space is set to: {SPACE_ID}\")"
   ]
  },
  {
   "cell_type": "code",
   "execution_count": null,
   "metadata": {},
   "outputs": [],
   "source": [
    "# Set Python Version and Runtime for TensorFlow\n",
    "software_spec_uid = wml_client.software_specifications.get_id_by_name('tensorflow_rt23.1-py3.10')\n",
    "\n",
    "# # Setup model meta for custom TensorFlow model\n",
    "# model_props = {\n",
    "#     wml_client.repository.ModelMetaNames.NAME: 'FastBert Model', \n",
    "#     wml_client.repository.ModelMetaNames.TYPE: 'tensorflow_2.12',\n",
    "#     wml_client.repository.ModelMetaNames.SOFTWARE_SPEC_UID: software_spec_uid\n",
    "# }\n",
    "model_dir = 'best_lstm_model.zip'\n",
    "\n",
    "# Define the location of requirements.txt\n",
    "requirements_file = 'requirement.txt'\n",
    "\n",
    "# Define the location of pipeline.py\n",
    "pipeline_file = 'lstm_pipeline.py'\n",
    "\n",
    "# Create the client to interact with WML\n",
    "\n",
    "# Upload the model\n",
    "model_metadata = {\n",
    "    wml_client.repository.ModelMetaNames.NAME: \"Best_82\",\n",
    "    wml_client.repository.ModelMetaNames.TYPE: \"tensorflow_2.12\",\n",
    "    wml_client.repository.ModelMetaNames.SOFTWARE_SPEC_UID: software_spec_uid\n",
    "}\n",
    "\n",
    "# Store the model\n",
    "model_uid = wml_client.repository.store_model(model = model_dir, meta_props=model_metadata)\n",
    "\n",
    "# Print model UID\n",
    "print(f\"Model uploaded with UID: {model_uid}\")"
   ]
  },
  {
   "cell_type": "code",
   "execution_count": null,
   "metadata": {},
   "outputs": [],
   "source": [
    "# model_details = wml_client.repository.store_model(\n",
    "#     model='model_package',  # Path to the zip file\n",
    "#     meta_props=model_props\n",
    "# )\n",
    "# model_details\n",
    "\n",
    "model_uid = model_uid['metadata']['id']\n",
    "\n",
    "deployment_props = {\n",
    "    wml_client.deployments.ConfigurationMetaNames.NAME: 'FEMA-SentimentAnalysis',\n",
    "    wml_client.deployments.ConfigurationMetaNames.ONLINE: {\n",
    "        \"dependencies\": {\n",
    "            \"pip_requirements\": requirements_file,  # Point to the requirements file\n",
    "            \"python\": \"3.10\"  # Ensure the Python version is appropriate\n",
    "        },\n",
    "        \"pipeline\": pipeline_file  # Ensure the pipeline file is used for inference\n",
    "    }\n",
    "}\n",
    "\n",
    "# Deploy the model\n",
    "deployment = wml_client.deployments.create(\n",
    "    artifact_uid=model_uid,\n",
    "    meta_props=deployment_props\n",
    ")\n",
    "\n",
    "# Output result\n",
    "print(f\"Deployment created: {deployment}\")\n",
    "\n"
   ]
  },
  {
   "cell_type": "code",
   "execution_count": null,
   "metadata": {},
   "outputs": [],
   "source": [
    "input_text = {\n",
    "    \"input_data\": [\n",
    "        {\n",
    "            \"fields\": [\"text\"],  # Name of the input field (this should match what the model expects)\n",
    "            \"values\": [[\"This is a sample text to analyze.\"]]  # List of texts you want to predict on\n",
    "        }\n",
    "    ]\n",
    "}\n"
   ]
  },
  {
   "cell_type": "code",
   "execution_count": null,
   "metadata": {},
   "outputs": [],
   "source": [
    "import json\n",
    "import requests\n",
    "\n",
    "# 1. Get the Deployment ID and Scoring URL from the deployment response\n",
    "deployment_uid = deployment['metadata']['id']\n",
    "deployment_url = deployment['entity']['status']['inference'][0]['url']  # Correct scoring URL\n",
    "\n",
    "# Set the version query parameter (you should use the correct version date)\n",
    "version = \"2021-06-28\"  # Replace this with the version of the Watson API you're using\n",
    "\n",
    "# 2. Prepare the input data (text)\n",
    "input_text = {\n",
    "    \"input_data\": [\n",
    "        {\n",
    "            \"fields\": [\"text\"],  # Input field name as expected by the model\n",
    "            \"values\": [[\"This is a test sentence for sentiment analysis.\"]]  # Example text for prediction\n",
    "        }\n",
    "    ]\n",
    "}\n",
    "\n",
    "# 3. Prepare the headers for authentication and API version\n",
    "headers = {\n",
    "    \"Authorization\": \"_KnZKtXJvhFYIq2z5Ot08WKKpfBwbsgyj3CWsxYHJyds\",  # Replace with your IBM Cloud API key\n",
    "    \"Content-Type\": \"application/json\"\n",
    "}\n",
    "\n",
    "# Add version to the scoring URL as a query parameter\n",
    "scoring_url_with_version = f\"{deployment_url}?version={version}\"\n",
    "\n",
    "# 4. Send the scoring request via the correct URL (use requests library instead)\n",
    "response = requests.post(scoring_url_with_version, headers=headers, data=json.dumps(input_text))\n",
    "\n",
    "# 5. Handle the response and print the prediction\n",
    "if response.status_code == 200:\n",
    "    prediction = response.json()\n",
    "    print(f\"Prediction: {prediction}\")\n",
    "else:\n",
    "    print(f\"Failed to get prediction. Status Code: {response.status_code}\")\n",
    "    print(f\"Response: {response.text}\")\n"
   ]
  },
  {
   "cell_type": "code",
   "execution_count": null,
   "metadata": {},
   "outputs": [],
   "source": [
    "deployment_uid"
   ]
  },
  {
   "cell_type": "code",
   "execution_count": null,
   "metadata": {},
   "outputs": [],
   "source": [
    "X_test[0].shape"
   ]
  },
  {
   "cell_type": "code",
   "execution_count": null,
   "metadata": {},
   "outputs": [],
   "source": [
    "payload = {\n",
    "    \"input_data\": [\n",
    "        {\n",
    "            \"fields\": [\"embedding_input\"],  # Rename to match the model's expected field name for embeddings\n",
    "            \"values\": [X_test[0].tolist()]  # Convert numpy array to list if needed\n",
    "        }\n",
    "    ]\n",
    "}"
   ]
  },
  {
   "cell_type": "code",
   "execution_count": null,
   "metadata": {},
   "outputs": [],
   "source": [
    "result = wml_client.deployments.score(deployment_uid, payload)"
   ]
  },
  {
   "cell_type": "code",
   "execution_count": null,
   "metadata": {},
   "outputs": [],
   "source": [
    "y_test[0]"
   ]
  },
  {
   "cell_type": "code",
   "execution_count": null,
   "metadata": {},
   "outputs": [],
   "source": [
    "result"
   ]
  },
  {
   "cell_type": "code",
   "execution_count": null,
   "metadata": {},
   "outputs": [],
   "source": [
    "# Adjust the payload to pass raw text if the pipeline handles embedding\n",
    "payload = {\n",
    "    \"input_data\": [\n",
    "        {\n",
    "            \"fields\": [\"text\"],  # Assuming the pipeline expects 'text' as input field\n",
    "            \"values\": [[\"This is a test sentence for sentiment analysis.\"]]  # Raw text\n",
    "        }\n",
    "    ]\n",
    "}\n",
    "\n",
    "# Perform the inference\n",
    "result = wml_client.deployments.score(deployment_uid, payload)\n",
    "\n",
    "# Output the result\n",
    "print(result)\n"
   ]
  },
  {
   "cell_type": "code",
   "execution_count": null,
   "metadata": {},
   "outputs": [],
   "source": [
    "X_test[0]"
   ]
  },
  {
   "cell_type": "code",
   "execution_count": 1,
   "metadata": {},
   "outputs": [
    {
     "name": "stderr",
     "output_type": "stream",
     "text": [
      "2024-11-25 11:06:25.962760: I tensorflow/core/platform/cpu_feature_guard.cc:182] This TensorFlow binary is optimized to use available CPU instructions in performance-critical operations.\n",
      "To enable the following instructions: AVX2 AVX512F AVX512_VNNI FMA, in other operations, rebuild TensorFlow with the appropriate compiler flags.\n"
     ]
    }
   ],
   "source": [
    "import numpy as np\n",
    "from tensorflow.keras.models import load_model\n",
    "from tensorflow.keras.preprocessing.text import Tokenizer\n",
    "from tensorflow.keras.preprocessing.sequence import pad_sequences"
   ]
  },
  {
   "cell_type": "code",
   "execution_count": 4,
   "metadata": {},
   "outputs": [
    {
     "name": "stdout",
     "output_type": "stream",
     "text": [
      "WARNING:tensorflow:Error in loading the saved optimizer state. As a result, your model is starting with a freshly initialized optimizer.\n"
     ]
    }
   ],
   "source": [
    "\n",
    "\n",
    "# Step 1: Load the embedding matrix (optional if you're not retraining)\n",
    "embedding_matrix = np.load('../embedding_matrix_lstm.npy')\n",
    "\n",
    "# Step 2: Load the trained model\n",
    "model = load_model('best_lstm_model.h5')\n",
    "\n",
    "# Step 3: Recreate or load the tokenizer (use the same tokenizer as during training)\n",
    "# If saved as a pickle file:\n",
    "import pickle\n",
    "with open('../word_tokenizer_lstm.pkl', 'rb') as handle:\n",
    "    tokenizer = pickle.load(handle)"
   ]
  },
  {
   "cell_type": "code",
   "execution_count": 9,
   "metadata": {},
   "outputs": [
    {
     "name": "stdout",
     "output_type": "stream",
     "text": [
      "1/1 [==============================] - 0s 42ms/step\n",
      "Prediction: [[0.34542564]]\n"
     ]
    }
   ],
   "source": [
    "\n",
    "\n",
    "# Step 4: Preprocess the new text\n",
    "max_sequence_length = embedding_matrix.shape[1]  # Ensure this matches your training config\n",
    "new_text = \"You are stupid!!!!\"\n",
    "sequence = tokenizer.texts_to_sequences([new_text])\n",
    "padded_sequence = pad_sequences(sequence, padding='post', maxlen=max_sequence_length)\n",
    "\n",
    "# Step 5: Make predictions\n",
    "prediction = model.predict(padded_sequence)\n",
    "print(\"Prediction:\", prediction)\n"
   ]
  }
 ],
 "metadata": {
  "kernelspec": {
   "display_name": "Text-Analysis",
   "language": "python",
   "name": "python3"
  },
  "language_info": {
   "codemirror_mode": {
    "name": "ipython",
    "version": 3
   },
   "file_extension": ".py",
   "mimetype": "text/x-python",
   "name": "python",
   "nbconvert_exporter": "python",
   "pygments_lexer": "ipython3",
   "version": "3.10.15"
  }
 },
 "nbformat": 4,
 "nbformat_minor": 2
}
